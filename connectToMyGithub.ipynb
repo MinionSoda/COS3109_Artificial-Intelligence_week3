{
  "nbformat": 4,
  "nbformat_minor": 0,
  "metadata": {
    "colab": {
      "name": "connectToMyGithub.ipynb",
      "provenance": [],
      "collapsed_sections": [],
      "include_colab_link": true
    },
    "kernelspec": {
      "name": "python3",
      "display_name": "Python 3"
    },
    "language_info": {
      "name": "python"
    }
  },
  "cells": [
    {
      "cell_type": "markdown",
      "metadata": {
        "id": "view-in-github",
        "colab_type": "text"
      },
      "source": [
        "<a href=\"https://colab.research.google.com/github/MinionSoda/COS3109_Artificial-Intelligence_week3/blob/main/connectToMyGithub.ipynb\" target=\"_parent\"><img src=\"https://colab.research.google.com/assets/colab-badge.svg\" alt=\"Open In Colab\"/></a>"
      ]
    },
    {
      "cell_type": "markdown",
      "source": [
        "#Clone the repository from GitHub to my Gdrive"
      ],
      "metadata": {
        "id": "gUZPH2c2BfaF"
      }
    },
    {
      "cell_type": "markdown",
      "source": [
        "https://github.com/Laksheeta/Simple-Reflex-Vaccum-Agent"
      ],
      "metadata": {
        "id": "OW4MOAuOCAjw"
      }
    },
    {
      "cell_type": "code",
      "execution_count": 1,
      "metadata": {
        "colab": {
          "base_uri": "https://localhost:8080/"
        },
        "id": "NhA64PY1BeHm",
        "outputId": "afcda10c-92d3-43dc-8a86-4afdc55b986f"
      },
      "outputs": [
        {
          "output_type": "stream",
          "name": "stdout",
          "text": [
            "usage: git [--version] [--help] [-C <path>] [-c <name>=<value>]\n",
            "           [--exec-path[=<path>]] [--html-path] [--man-path] [--info-path]\n",
            "           [-p | --paginate | --no-pager] [--no-replace-objects] [--bare]\n",
            "           [--git-dir=<path>] [--work-tree=<path>] [--namespace=<name>]\n",
            "           <command> [<args>]\n",
            "\n",
            "These are common Git commands used in various situations:\n",
            "\n",
            "start a working area (see also: git help tutorial)\n",
            "   clone      Clone a repository into a new directory\n",
            "   init       Create an empty Git repository or reinitialize an existing one\n",
            "\n",
            "work on the current change (see also: git help everyday)\n",
            "   add        Add file contents to the index\n",
            "   mv         Move or rename a file, a directory, or a symlink\n",
            "   reset      Reset current HEAD to the specified state\n",
            "   rm         Remove files from the working tree and from the index\n",
            "\n",
            "examine the history and state (see also: git help revisions)\n",
            "   bisect     Use binary search to find the commit that introduced a bug\n",
            "   grep       Print lines matching a pattern\n",
            "   log        Show commit logs\n",
            "   show       Show various types of objects\n",
            "   status     Show the working tree status\n",
            "\n",
            "grow, mark and tweak your common history\n",
            "   branch     List, create, or delete branches\n",
            "   checkout   Switch branches or restore working tree files\n",
            "   commit     Record changes to the repository\n",
            "   diff       Show changes between commits, commit and working tree, etc\n",
            "   merge      Join two or more development histories together\n",
            "   rebase     Reapply commits on top of another base tip\n",
            "   tag        Create, list, delete or verify a tag object signed with GPG\n",
            "\n",
            "collaborate (see also: git help workflows)\n",
            "   fetch      Download objects and refs from another repository\n",
            "   pull       Fetch from and integrate with another repository or a local branch\n",
            "   push       Update remote refs along with associated objects\n",
            "\n",
            "'git help -a' and 'git help -g' list available subcommands and some\n",
            "concept guides. See 'git help <command>' or 'git help <concept>'\n",
            "to read about a specific subcommand or concept.\n"
          ]
        }
      ],
      "source": [
        "!git"
      ]
    },
    {
      "cell_type": "markdown",
      "source": [
        "##check working directory"
      ],
      "metadata": {
        "id": "12daYfV2CqR9"
      }
    },
    {
      "cell_type": "code",
      "source": [
        "!pwd"
      ],
      "metadata": {
        "colab": {
          "base_uri": "https://localhost:8080/"
        },
        "id": "wkjbWaxxCGoD",
        "outputId": "e88d5caa-f496-4a0e-cc8b-42019d984f53"
      },
      "execution_count": 2,
      "outputs": [
        {
          "output_type": "stream",
          "name": "stdout",
          "text": [
            "/content\n"
          ]
        }
      ]
    },
    {
      "cell_type": "markdown",
      "source": [
        "##clone the repository"
      ],
      "metadata": {
        "id": "W9OkTTIwCxO6"
      }
    },
    {
      "cell_type": "code",
      "source": [
        "!rm -r /content/Simple-Reflex-Vaccum-Agent #remove directory existed before recreate\n",
        "!git clone https://github.com/Laksheeta/Simple-Reflex-Vaccum-Agent.git"
      ],
      "metadata": {
        "colab": {
          "base_uri": "https://localhost:8080/"
        },
        "id": "09tyZi20CTpr",
        "outputId": "eb2c0944-5934-4b89-9d33-a79c44b85c10"
      },
      "execution_count": 3,
      "outputs": [
        {
          "output_type": "stream",
          "name": "stdout",
          "text": [
            "rm: cannot remove '/content/Simple-Reflex-Vaccum-Agent': No such file or directory\n",
            "Cloning into 'Simple-Reflex-Vaccum-Agent'...\n",
            "remote: Enumerating objects: 18, done.\u001b[K\n",
            "remote: Counting objects: 100% (18/18), done.\u001b[K\n",
            "remote: Compressing objects: 100% (17/17), done.\u001b[K\n",
            "remote: Total 18 (delta 4), reused 3 (delta 0), pack-reused 0\u001b[K\n",
            "Unpacking objects: 100% (18/18), done.\n"
          ]
        }
      ]
    },
    {
      "cell_type": "markdown",
      "source": [
        "##mount myGdrive\n"
      ],
      "metadata": {
        "id": "SH3GI_mFDOAe"
      }
    },
    {
      "cell_type": "code",
      "source": [
        "from google.colab import drive\n",
        "ROOT = \"/content/GDrive\"\n",
        "drive.mount(ROOT)"
      ],
      "metadata": {
        "colab": {
          "base_uri": "https://localhost:8080/"
        },
        "id": "_i8H2n9vDEl-",
        "outputId": "b91a7f6a-3127-455e-cee5-0d5fbc39ba1d"
      },
      "execution_count": 4,
      "outputs": [
        {
          "output_type": "stream",
          "name": "stdout",
          "text": [
            "Mounted at /content/GDrive\n"
          ]
        }
      ]
    },
    {
      "cell_type": "code",
      "source": [
        "Proj_Path = \"/content/GDrive/MyDrive/COS3109/week3/simpleReflexAgent_VacuumCleaner\""
      ],
      "metadata": {
        "id": "s-W0V55jV2J1"
      },
      "execution_count": 5,
      "outputs": []
    },
    {
      "cell_type": "code",
      "source": [
        "!rm -r \"{Proj_Path}\"\n",
        "!mkdir \"{Proj_Path}\""
      ],
      "metadata": {
        "id": "RDSzs_pnaFai"
      },
      "execution_count": 6,
      "outputs": []
    },
    {
      "cell_type": "code",
      "source": [
        "!mv /content/Simple-Reflex-Vaccum-Agent/* \"{Proj_Path}\""
      ],
      "metadata": {
        "id": "8YAV_Oa4a38Z"
      },
      "execution_count": 7,
      "outputs": []
    },
    {
      "cell_type": "code",
      "source": [
        "!rm -rf /content/Simple-Reflex-Vaccum-Agent\n",
        "#!rm -rf /content/sample_data"
      ],
      "metadata": {
        "id": "si_24ibHmtFA"
      },
      "execution_count": 8,
      "outputs": []
    }
  ]
}